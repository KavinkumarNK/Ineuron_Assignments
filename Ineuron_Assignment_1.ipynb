{
 "cells": [
  {
   "cell_type": "markdown",
   "metadata": {},
   "source": [
    "1) Install Jupyter notebook and run the first program and share the screenshot of the output."
   ]
  },
  {
   "cell_type": "code",
   "execution_count": 1,
   "metadata": {},
   "outputs": [
    {
     "data": {
      "text/plain": [
       "range(0, 10)"
      ]
     },
     "execution_count": 1,
     "metadata": {},
     "output_type": "execute_result"
    }
   ],
   "source": [
    "range(10)"
   ]
  },
  {
   "cell_type": "code",
   "execution_count": 2,
   "metadata": {},
   "outputs": [
    {
     "name": "stdout",
     "output_type": "stream",
     "text": [
      "2\n",
      "5\n",
      "4\n",
      "9\n",
      "7\n",
      "8\n",
      "6\n",
      "4\n",
      "2\n",
      "3\n",
      "45\n"
     ]
    }
   ],
   "source": [
    "kavin =[2,5,4,9,7,8,6,4,2,3,45]\n",
    "for kumar in kavin:\n",
    "    print(kumar)"
   ]
  },
  {
   "cell_type": "markdown",
   "metadata": {},
   "source": [
    "2) Write a program which will find all such numbers which are divisible by 7 but are not a multiple\n",
    "   of 5, between 2000 and 3200 (both included). The numbers obtained should be printed in a\n",
    "   comma-separated sequence on a single line."
   ]
  },
  {
   "cell_type": "code",
   "execution_count": 37,
   "metadata": {},
   "outputs": [
    {
     "name": "stdout",
     "output_type": "stream",
     "text": [
      "[2002, 2009, 2016, 2023, 2037, 2044, 2051, 2058, 2072, 2079, 2086, 2093, 2107, 2114, 2121, 2128, 2142, 2149, 2156, 2163, 2177, 2184, 2191, 2198, 2212, 2219, 2226, 2233, 2247, 2254, 2261, 2268, 2282, 2289, 2296, 2303, 2317, 2324, 2331, 2338, 2352, 2359, 2366, 2373, 2387, 2394, 2401, 2408, 2422, 2429, 2436, 2443, 2457, 2464, 2471, 2478, 2492, 2499, 2506, 2513, 2527, 2534, 2541, 2548, 2562, 2569, 2576, 2583, 2597, 2604, 2611, 2618, 2632, 2639, 2646, 2653, 2667, 2674, 2681, 2688, 2702, 2709, 2716, 2723, 2737, 2744, 2751, 2758, 2772, 2779, 2786, 2793, 2807, 2814, 2821, 2828, 2842, 2849, 2856, 2863, 2877, 2884, 2891, 2898, 2912, 2919, 2926, 2933, 2947, 2954, 2961, 2968, 2982, 2989, 2996, 3003, 3017, 3024, 3031, 3038, 3052, 3059, 3066, 3073, 3087, 3094, 3101, 3108, 3122, 3129, 3136, 3143, 3157, 3164, 3171, 3178, 3192, 3199]\n"
     ]
    }
   ],
   "source": [
    "a=range(2000,3201)\n",
    "b=[]\n",
    "for i in a:\n",
    "    if (i%5 != 0):\n",
    "        if (i%7 == 0):\n",
    "            b.append(i)\n",
    "print (b)"
   ]
  },
  {
   "cell_type": "markdown",
   "metadata": {},
   "source": [
    "3) Write a Python program to accept the user's first and last name and then getting them printed in\n",
    "   the the reverse order with a space between first name and last name."
   ]
  },
  {
   "cell_type": "code",
   "execution_count": 55,
   "metadata": {},
   "outputs": [
    {
     "name": "stdout",
     "output_type": "stream",
     "text": [
      "Enter your First Name:\t Kavin\n",
      "Enter your Last Name:\t kumar\n",
      "Hai Kavin kumar\n",
      "Reverse Order of your name is:  nivaK ramuk\n"
     ]
    }
   ],
   "source": [
    "f=input('Enter your First Name:\\t ')\n",
    "l=input('Enter your Last Name:\\t ')\n",
    "print('Hai', f +' '+l )\n",
    "print('Reverse Order of your name is: ',f[::-1]+ ' '+ l[::-1])"
   ]
  },
  {
   "cell_type": "markdown",
   "metadata": {},
   "source": [
    "4) Write a Python program to find the volume of a sphere with diameter 12 cm.\n",
    "   Formula: V=4/3 * π * r^3"
   ]
  },
  {
   "cell_type": "code",
   "execution_count": 122,
   "metadata": {},
   "outputs": [
    {
     "name": "stdout",
     "output_type": "stream",
     "text": [
      "Vloume of a sphere is:  905.1428571428572 cm^3\n"
     ]
    }
   ],
   "source": [
    "Diameter = 12 \n",
    "r = Diameter/2 \n",
    "Volume = 4/3*22/7*(r*r*r)\n",
    "print('Vloume of a sphere is: ',Volume, 'cm^3')"
   ]
  },
  {
   "cell_type": "markdown",
   "metadata": {},
   "source": [
    "5) Write a program which accepts a sequence of comma-separated numbers from console and\n",
    "   generate a list."
   ]
  },
  {
   "cell_type": "code",
   "execution_count": 170,
   "metadata": {},
   "outputs": [
    {
     "name": "stdout",
     "output_type": "stream",
     "text": [
      "Total number of elements you want to enter:\t5\n",
      "Enter Number: \t10\n",
      "Enter Number: \t20\n",
      "Enter Number: \t30\n",
      "Enter Number: \t40\n",
      "Enter Number: \t50\n",
      "List of the given inputs:  [10, 20, 30, 40, 50]\n"
     ]
    }
   ],
   "source": [
    "n = range(int(input('Total number of elements you want to enter:\\t')))\n",
    "b=[]\n",
    "for i in n :\n",
    "    q=int(input('Enter Number: \\t'))\n",
    "    b.append(q)\n",
    "print('List of the given inputs: ',b)"
   ]
  },
  {
   "cell_type": "markdown",
   "metadata": {},
   "source": [
    "6) Create the below pattern using nested for loop in Python.\n",
    "*\n",
    "* *\n",
    "* * *\n",
    "* * * *\n",
    "* * * * *\n",
    "* * * *\n",
    "* * *\n",
    "* *\n",
    "*"
   ]
  },
  {
   "cell_type": "code",
   "execution_count": 164,
   "metadata": {},
   "outputs": [
    {
     "name": "stdout",
     "output_type": "stream",
     "text": [
      "*\n",
      "**\n",
      "***\n",
      "****\n",
      "*****\n",
      "****\n",
      "***\n",
      "**\n",
      "*\n"
     ]
    }
   ],
   "source": [
    "k=0,1,2,3,4\n",
    "for i in k:\n",
    "    print('*')\n",
    "    break;\n",
    "for j in k:\n",
    "    print('**')\n",
    "    break;\n",
    "for h in k:\n",
    "    print('***')\n",
    "    break;\n",
    "for w in k:\n",
    "    print('****')\n",
    "    break;\n",
    "for r in k:\n",
    "    print('*****')\n",
    "    break;\n",
    "for g in k:\n",
    "    print('****')\n",
    "    break;\n",
    "for h in k:\n",
    "    print('***')\n",
    "    break;\n",
    "for s in k:\n",
    "    print('**')\n",
    "    break;\n",
    "for a in k:\n",
    "    print('*')\n",
    "    break;"
   ]
  },
  {
   "cell_type": "markdown",
   "metadata": {},
   "source": [
    "7) Write a Python program to reverse a word after accepting the input from the user"
   ]
  },
  {
   "cell_type": "code",
   "execution_count": 166,
   "metadata": {},
   "outputs": [
    {
     "name": "stdout",
     "output_type": "stream",
     "text": [
      "Write a word to make it reverse:\tAcadGlid\n",
      "Your output is here:\t dilGdacA\n"
     ]
    }
   ],
   "source": [
    "inp= input(\"Write a word to make it reverse:\\t\")\n",
    "op= inp[::-1]\n",
    "print('Your output is here:\\t',op)"
   ]
  },
  {
   "cell_type": "markdown",
   "metadata": {},
   "source": [
    "8) Write a Python Program to print the given string in the format specified in the ​ sample output.\n",
    "   WE, THE PEOPLE OF INDIA, having solemnly resolved to constitute India into a\n",
    "   SOVEREIGN, SOCIALIST, SECULAR, DEMOCRATIC REPUBLIC and to secure to all\n",
    "   its citizens"
   ]
  },
  {
   "cell_type": "code",
   "execution_count": 169,
   "metadata": {},
   "outputs": [
    {
     "name": "stdout",
     "output_type": "stream",
     "text": [
      "WE, THE PEOPLE OF INDIA,\n",
      "\t having solemnly resolved to constitute India into a SOVEREIGN, !\n",
      "\t\tSOCIALIST, SECULAR, DEMOCRATIC REPUBLIC\n",
      "\t\t  and to secure to all its citizens\n"
     ]
    }
   ],
   "source": [
    "print('WE, THE PEOPLE OF INDIA,')\n",
    "print('\\t having solemnly resolved to constitute India into a SOVEREIGN, !')\n",
    "print('\\t\\tSOCIALIST, SECULAR, DEMOCRATIC REPUBLIC')\n",
    "print('\\t\\t  and to secure to all its citizens')"
   ]
  },
  {
   "cell_type": "code",
   "execution_count": null,
   "metadata": {},
   "outputs": [],
   "source": []
  }
 ],
 "metadata": {
  "kernelspec": {
   "display_name": "Python 3",
   "language": "python",
   "name": "python3"
  },
  "language_info": {
   "codemirror_mode": {
    "name": "ipython",
    "version": 3
   },
   "file_extension": ".py",
   "mimetype": "text/x-python",
   "name": "python",
   "nbconvert_exporter": "python",
   "pygments_lexer": "ipython3",
   "version": "3.7.3"
  }
 },
 "nbformat": 4,
 "nbformat_minor": 2
}
